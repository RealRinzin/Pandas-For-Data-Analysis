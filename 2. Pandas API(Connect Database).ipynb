{
 "cells": [
  {
   "cell_type": "markdown",
   "metadata": {},
   "source": [
    "## Installing DB API libraries \n",
    "#### Small Changes\n",
    "``` Python\n",
    "# !pip3 install mysql-connector-python # install mysql connector\n",
    "import pandas as pd\n",
    "from mysql.connector import connect #\n",
    "```\n",
    "## Database Connection strings\n",
    "``` Python\n",
    "# We are accessing our local database here. You can access cloud DB too with this same query but be mindful while accessing the live DB.\n",
    "connection = connect(\n",
    "    host=\"localhost\",\n",
    "    user=\"root\",     \n",
    "    password=\"root\",\n",
    "    database=\"data-analyst\",\n",
    "    port=\"8889\"                  \n",
    ")\n",
    "```\n",
    "## Create Cursor\n",
    "``` Python\n",
    "# Withe the help of cursor we can point the database table and access the records\n",
    "Cursor = connection.cursor()\n",
    "Cursor.execute('select * from PATIENTS')\n",
    "# Assigning the table column\n",
    "columns = [column[0] for column in Cursor.description]\n",
    "# Fetching the data\n",
    "Results = Cursor.fetchall()\n",
    "# Data Frame\n",
    "df = pd.DataFrame(Results,columns=columns)\n",
    "\n",
    "```\n",
    "## Plotting the Data to seaborn\n",
    "``` python\n",
    "!pip3 install seaborn\n",
    "!pip3 install matplotlib\n",
    "# %matplotlib inline\n",
    "# uncomment the following line if you get an module error saying seaborn not found\n",
    "# !pip install seaborn==0.9.0\n",
    "import seaborn\n",
    "\n",
    "plot = seaborn.barplot(x='FIRST_NAME',y='SSN', data=df)\n",
    "```\n"
   ]
  },
  {
   "cell_type": "code",
   "execution_count": null,
   "metadata": {
    "vscode": {
     "languageId": "plaintext"
    }
   },
   "outputs": [],
   "source": []
  }
 ],
 "metadata": {
  "language_info": {
   "name": "python"
  }
 },
 "nbformat": 4,
 "nbformat_minor": 2
}
